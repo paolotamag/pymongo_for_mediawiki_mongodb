{
 "cells": [
  {
   "cell_type": "code",
   "execution_count": 49,
   "metadata": {
    "collapsed": true
   },
   "outputs": [],
   "source": [
    "import pandas as pd\n",
    "import csv"
   ]
  },
  {
   "cell_type": "code",
   "execution_count": 50,
   "metadata": {
    "collapsed": true
   },
   "outputs": [],
   "source": [
    "def read_csv_from_sql(cols,path):\n",
    "    df = pd.read_csv(path, header = None, quoting=csv.QUOTE_NONNUMERIC, encoding=\"utf-8\", escapechar='\\\\', doublequote=False)\n",
    "    df.columns = cols\n",
    "    return df"
   ]
  },
  {
   "cell_type": "code",
   "execution_count": 51,
   "metadata": {
    "collapsed": true
   },
   "outputs": [],
   "source": [
    "df_list = []\n",
    "name_list = []"
   ]
  },
  {
   "cell_type": "code",
   "execution_count": 52,
   "metadata": {
    "collapsed": true
   },
   "outputs": [],
   "source": [
    "columns = [\"page_id\", \"page_namespace\", \"page_title\", \"page_restrictions\", \"page_counter\", \n",
    "                \"page_is_redirect\", \"page_is_new\", \"page_random\", \"page_touched\", \"page_links_updated\", \n",
    "                \"page_latest\", \"page_len\", \"page_content_model\", \"page_lang\"]\n",
    "patho = \"../csv_from_sql/page_30k.csv\"\n",
    "df_page = read_csv_from_sql(columns,patho)\n",
    "df_list.append(df_page)\n",
    "name_list.append(\"page\")"
   ]
  },
  {
   "cell_type": "code",
   "execution_count": 53,
   "metadata": {
    "collapsed": false
   },
   "outputs": [],
   "source": [
    "columns = [\"pl_from\", \"pl_namespace\", \"pl_title\", \"pl_from_namespace\"]\n",
    "patho = \"../csv_from_sql/pagelinks_30k.csv\"\n",
    "df_pagelinks = read_csv_from_sql(columns,patho)\n",
    "df_list.append(df_pagelinks)\n",
    "name_list.append(\"pagelinks\")"
   ]
  },
  {
   "cell_type": "code",
   "execution_count": 54,
   "metadata": {
    "collapsed": false
   },
   "outputs": [],
   "source": [
    "columns = [\"img_name\", \"img_size\", \"img_width\", \"img_height\", \"img_bits\", \"img_media_type\", \n",
    "\"img_major_mime\", \"img_minor_mime\", \"img_description\", \"img_user\", \"img_user_text\", \"img_timestamp\", \n",
    "\"img_sha1\", \"img_deleted\"] \n",
    "patho = \"../csv_from_sql/image_30k.csv\"\n",
    "df_image = read_csv_from_sql(columns,patho)\n",
    "df_list.append(df_image)\n",
    "name_list.append(\"image\")"
   ]
  },
  {
   "cell_type": "code",
   "execution_count": 55,
   "metadata": {
    "collapsed": false
   },
   "outputs": [],
   "source": [
    "columns = [\"il_from\",\"il_to\",\"il_from_namespace\"]\n",
    "patho = \"../csv_from_sql/imagelinks_30k.csv\"\n",
    "df_imagelinks = read_csv_from_sql(columns,patho)\n",
    "df_list.append(df_imagelinks)\n",
    "name_list.append(\"imagelinks\")"
   ]
  },
  {
   "cell_type": "code",
   "execution_count": 56,
   "metadata": {
    "collapsed": false
   },
   "outputs": [],
   "source": [
    "columns = [\"cat_id\", \"cat_title\", \"cat_pages\", \"cat_subcats\", \"cat_files\"]\n",
    "patho = \"../csv_from_sql/category_30k.csv\"\n",
    "df_category = read_csv_from_sql(columns,patho)\n",
    "df_list.append(df_category)\n",
    "name_list.append(\"category\")"
   ]
  },
  {
   "cell_type": "code",
   "execution_count": 57,
   "metadata": {
    "collapsed": false
   },
   "outputs": [],
   "source": [
    "columns = [\"cl_from\",\"cl_to\",\"cl_timestamp\",\"cl_sortkey_prefix\",\"cl_collation\",\"cl_type\"]\n",
    "patho = \"../csv_from_sql/categorylinks_30k.csv\"\n",
    "df_categorylinks = read_csv_from_sql(columns,patho)\n",
    "df_list.append(df_categorylinks)\n",
    "name_list.append(\"categorylinks\")"
   ]
  },
  {
   "cell_type": "code",
   "execution_count": 58,
   "metadata": {
    "collapsed": false
   },
   "outputs": [],
   "source": [
    "from pymongo import MongoClient\n",
    "import pymongo\n",
    "client = MongoClient('localhost', 27017)"
   ]
  },
  {
   "cell_type": "code",
   "execution_count": null,
   "metadata": {
    "collapsed": true
   },
   "outputs": [],
   "source": []
  },
  {
   "cell_type": "code",
   "execution_count": 59,
   "metadata": {
    "collapsed": false
   },
   "outputs": [],
   "source": [
    "db = client['wiki_one_collection']\n"
   ]
  },
  {
   "cell_type": "code",
   "execution_count": 60,
   "metadata": {
    "collapsed": false
   },
   "outputs": [
    {
     "name": "stdout",
     "output_type": "stream",
     "text": [
      "page collection - progress: 0.0  ( 0 / 30000 )\n",
      "page collection - progress: 0.0333333333333  ( 1000 / 30000 )\n",
      "page collection - progress: 0.0666666666667  ( 2000 / 30000 )\n",
      "page collection - progress: 0.1  ( 3000 / 30000 )\n",
      "page collection - progress: 0.133333333333  ( 4000 / 30000 )\n",
      "page collection - progress: 0.166666666667  ( 5000 / 30000 )\n",
      "page collection - progress: 0.2  ( 6000 / 30000 )\n",
      "page collection - progress: 0.233333333333  ( 7000 / 30000 )\n",
      "page collection - progress: 0.266666666667  ( 8000 / 30000 )\n",
      "page collection - progress: 0.3  ( 9000 / 30000 )\n",
      "page collection - progress: 0.333333333333  ( 10000 / 30000 )\n",
      "page collection - progress: 0.366666666667  ( 11000 / 30000 )\n",
      "page collection - progress: 0.4  ( 12000 / 30000 )\n",
      "page collection - progress: 0.433333333333  ( 13000 / 30000 )\n",
      "page collection - progress: 0.466666666667  ( 14000 / 30000 )\n",
      "page collection - progress: 0.5  ( 15000 / 30000 )\n",
      "page collection - progress: 0.533333333333  ( 16000 / 30000 )\n",
      "page collection - progress: 0.566666666667  ( 17000 / 30000 )\n",
      "page collection - progress: 0.6  ( 18000 / 30000 )\n",
      "page collection - progress: 0.633333333333  ( 19000 / 30000 )\n",
      "page collection - progress: 0.666666666667  ( 20000 / 30000 )\n",
      "page collection - progress: 0.7  ( 21000 / 30000 )\n",
      "page collection - progress: 0.733333333333  ( 22000 / 30000 )\n",
      "page collection - progress: 0.766666666667  ( 23000 / 30000 )\n",
      "page collection - progress: 0.8  ( 24000 / 30000 )\n",
      "page collection - progress: 0.833333333333  ( 25000 / 30000 )\n",
      "page collection - progress: 0.866666666667  ( 26000 / 30000 )\n",
      "page collection - progress: 0.9  ( 27000 / 30000 )\n",
      "page collection - progress: 0.933333333333  ( 28000 / 30000 )\n",
      "page collection - progress: 0.966666666667  ( 29000 / 30000 )\n"
     ]
    }
   ],
   "source": [
    "client.drop_database(u'wiki_one_collection')\n",
    "client.database_names()\n",
    "db = client['wiki_one_collection']\n",
    "coll_name = \"page\"\n",
    "coll = db[coll_name]\n",
    "df = df_page\n",
    "for x in range(0,len(df)):\n",
    "    if x % 1000 == 0:\n",
    "        print coll_name,\"collection - progress:\",float(x)/len(df),\" (\",x,\"/\",len(df),\")\"\n",
    "    dictz = {}\n",
    "    for y in df.columns:\n",
    "        value = df[y][x]\n",
    "        if isinstance(value, basestring) or isinstance(value, unicode):\n",
    "            uffa = str(value.encode(encoding=\"utf-8\"))\n",
    "        else:\n",
    "            uffa = float(value)\n",
    "        dictz[y] = uffa\n",
    "    list_of_embed_things = []\n",
    "    dictz['categories'] = []\n",
    "    list_of_cat = list(df_categorylinks[df_categorylinks[\"cl_from\"]==df['page_id'][x]][\"cl_to\"])\n",
    "    for c in list_of_cat:\n",
    "        d_single_cat = {}\n",
    "        df_single_cat = df_category[df_category[u'cat_title']==c]\n",
    "        if len(df_single_cat) != 1:\n",
    "            print \"error! too many categories with same title:\"\n",
    "            print df_single_cat\n",
    "            break\n",
    "        for c_col in df_category.columns:\n",
    "            value = list(df_single_cat[c_col])[0]\n",
    "            if isinstance(value, basestring) or isinstance(value, unicode):\n",
    "                uffa = str(value.encode(encoding=\"utf-8\"))\n",
    "            else:\n",
    "                uffa = float(value)\n",
    "            d_single_cat[c_col] = uffa\n",
    "        dictz['categories'].append(d_single_cat)\n",
    "    \n",
    "    dictz['images'] = []\n",
    "    list_of_imgs = list(df_imagelinks[df_imagelinks[\"il_from\"]==df['page_id'][x]][\"il_to\"])\n",
    "    for i in list_of_imgs:\n",
    "        d_single_img = {}\n",
    "        df_single_img = df_image[df_image[u'img_name']==i]\n",
    "        if len(df_single_img) > 1:\n",
    "            print \"error! too many images with same title:\"\n",
    "            print df_single_img\n",
    "            break\n",
    "        elif len(df_single_img) == 0:\n",
    "            continue\n",
    "        else:\n",
    "            for i_col in df_image.columns:\n",
    "                value = list(df_single_img[i_col])[0]\n",
    "                if isinstance(value, basestring) or isinstance(value, unicode):\n",
    "                    uffa = str(value.encode(encoding=\"utf-8\"))\n",
    "                else:\n",
    "                    uffa = float(value)\n",
    "                d_single_img[i_col] = uffa\n",
    "            dictz['images'].append(d_single_img)\n",
    "            \n",
    "    dictz['linked_pages'] = []\n",
    "    list_of_pgs = list(df_pagelinks[df_pagelinks[\"pl_from\"]==df['page_id'][x]][\"pl_title\"])\n",
    "    for i in list_of_pgs:\n",
    "        d_single_pg = {}\n",
    "        df_single_pg = df_page[df_page[u'page_title']==i]\n",
    "        if len(df_single_pg) > 1:\n",
    "            print \"error! too many pages with same title:\"\n",
    "            print df_single_pg\n",
    "            break\n",
    "        elif len(df_single_pg) == 0:\n",
    "            continue\n",
    "        else:\n",
    "            for i_col in [\"page_id\",\"page_title\"]:\n",
    "                value = list(df_single_pg[i_col])[0]\n",
    "                if isinstance(value, basestring) or isinstance(value, unicode):\n",
    "                    uffa = str(value.encode(encoding=\"utf-8\"))\n",
    "                else:\n",
    "                    uffa = float(value)\n",
    "                d_single_pg[i_col] = uffa\n",
    "            dictz['linked_pages'].append(d_single_pg)\n",
    "\n",
    "    coll_id = coll.insert_one(dictz)\n"
   ]
  },
  {
   "cell_type": "code",
   "execution_count": 61,
   "metadata": {
    "collapsed": false
   },
   "outputs": [
    {
     "name": "stdout",
     "output_type": "stream",
     "text": [
      "The collections in our mongoDB are:\n",
      "\n",
      "page\n"
     ]
    }
   ],
   "source": [
    "print \"The collections in our mongoDB are:\"\n",
    "print\n",
    "for x in db.collection_names():\n",
    "    print x"
   ]
  },
  {
   "cell_type": "code",
   "execution_count": 62,
   "metadata": {
    "collapsed": false
   },
   "outputs": [
    {
     "name": "stdout",
     "output_type": "stream",
     "text": [
      "[u'_id_']\n"
     ]
    }
   ],
   "source": [
    "# command to create index directly in mongo shell\n",
    "# db.page.createIndex( { 'page_id': 1 } )\n",
    "print sorted(list(db[\"page\"].index_information()))\n"
   ]
  },
  {
   "cell_type": "code",
   "execution_count": 63,
   "metadata": {
    "collapsed": false
   },
   "outputs": [
    {
     "name": "stdout",
     "output_type": "stream",
     "text": [
      "indexes for collection of pages:\n",
      "[u'_id_', u'page_id_1']\n",
      "\n"
     ]
    }
   ],
   "source": [
    "#creating indexes in case it was not done already in mongo shell\n",
    "collection_now = db[\"page\"]\n",
    "result = collection_now.create_index([('page_id', pymongo.ASCENDING)], unique=True)\n",
    "print \"indexes for collection of pages:\" \n",
    "print sorted(list(collection_now.index_information()))\n",
    "print"
   ]
  },
  {
   "cell_type": "code",
   "execution_count": 64,
   "metadata": {
    "collapsed": false
   },
   "outputs": [
    {
     "name": "stdout",
     "output_type": "stream",
     "text": [
      "result # 0\n",
      "{u'page_title': u'Soviet_submarine_K-8'}\n",
      "----\n",
      "result # 1\n",
      "{u'page_title': u'German_submarine_U-110_(1940)'}\n",
      "----\n",
      "result # 2\n",
      "{u'page_title': u'German_submarine_U-573'}\n",
      "----\n"
     ]
    }
   ],
   "source": [
    "i = 0\n",
    "r = 0\n",
    "for x in db.page.find(\n",
    "                        {\"$and\":[{ \"categories.cat_title\": {\"$regex\" : \".*_War_.*\"}},\n",
    "                        {\"page_title\": {\"$regex\" : \".*_submarine_.*\"}}]},\n",
    "                        {\"page_title\":1,\"_id\":0}\n",
    "                        ):\n",
    "    print \"result #\",r\n",
    "    r+=1\n",
    "    print x\n",
    "    print \"----\"\n",
    "    i += 1\n",
    "    if i >=100:\n",
    "        print \"break\"\n",
    "        break"
   ]
  },
  {
   "cell_type": "code",
   "execution_count": null,
   "metadata": {
    "collapsed": false
   },
   "outputs": [],
   "source": []
  },
  {
   "cell_type": "code",
   "execution_count": 79,
   "metadata": {
    "collapsed": false
   },
   "outputs": [
    {
     "data": {
      "text/plain": [
       "'\\n\\n\"categories.cat_title\": \"Redirects_from_misspellings\"\\n\"$where\": \"this.categories.length > 1\"\\n\\n'"
      ]
     },
     "execution_count": 79,
     "metadata": {},
     "output_type": "execute_result"
    }
   ],
   "source": [
    "'''\n",
    "\n",
    "\"categories.cat_title\": \"Redirects_from_misspellings\"\n",
    "\"$where\": \"this.categories.length > 1\"\n",
    "\"categories.cat_title\": {\"$regex\" : \".*_War_.*\"}\n",
    "\n",
    "'''"
   ]
  },
  {
   "cell_type": "code",
   "execution_count": null,
   "metadata": {
    "collapsed": false,
    "scrolled": true
   },
   "outputs": [],
   "source": [
    "i = 0\n",
    "# getting all pages related to war and showing the relative war categories\n",
    "# https://docs.mongodb.com/manual/tutorial/query-documents/\n",
    "# other query oprators here: https://docs.mongodb.com/manual/reference/operator/query/\n",
    "r = 0\n",
    "for x in db.page.find({ \"categories.cat_title\": {\"$regex\" : \".*_War_.*\"} }):\n",
    "    print \"result #\",r\n",
    "    csteg = []\n",
    "    for y in x[\"categories\"]:\n",
    "        if \"_War_\" in y[\"cat_title\"]:\n",
    "            csteg.append(y[\"cat_title\"])\n",
    "    print x[\"page_title\"],\":\",csteg\n",
    "    print \"----\"\n",
    "    i += 1\n",
    "    if i >=10:\n",
    "        print \"break\"\n",
    "        break\n"
   ]
  },
  {
   "cell_type": "code",
   "execution_count": null,
   "metadata": {
    "collapsed": false
   },
   "outputs": [],
   "source": []
  },
  {
   "cell_type": "code",
   "execution_count": null,
   "metadata": {
    "collapsed": false,
    "scrolled": true
   },
   "outputs": [],
   "source": [
    "i = 0\n",
    "# full structured print\n",
    "# https://docs.mongodb.com/manual/tutorial/query-documents/\n",
    "# other query oprators here: https://docs.mongodb.com/manual/reference/operator/query/\n",
    "r = 0\n",
    "for x in db.page.find({ \"categories.cat_title\": {\"$regex\" : \".*_War_.*\"} }):\n",
    "    print \"result #\",r\n",
    "    r+=1\n",
    "    for y in x:\n",
    "        if type(x[y]) != list:\n",
    "            print y,\"-->\", x[y]\n",
    "        else:\n",
    "            if len(x[y]) == 0:\n",
    "                print y,\"--> EMPTY LIST\"\n",
    "            else:\n",
    "                print\n",
    "                print y,\"-->\"\n",
    "                gn = 0\n",
    "                for g in x[y]:\n",
    "                    print \" \", \"item #\",gn\n",
    "                    gn+=1\n",
    "                    for h in g:\n",
    "                        print \"  \",h,\":\",g[h]\n",
    "                print\n",
    "    print\n",
    "    print \"----\"\n",
    "    print\n",
    "    i += 1\n",
    "    if i >=10:\n",
    "        print \"break\"\n",
    "        break\n",
    "    "
   ]
  },
  {
   "cell_type": "code",
   "execution_count": 45,
   "metadata": {
    "collapsed": false
   },
   "outputs": [],
   "source": [
    "dizio = {}\n",
    "define( 'NS_MAIN', 0 );\n",
    "define( 'NS_TALK', 1 );\n",
    "define( 'NS_USER', 2 );\n",
    "define( 'NS_USER_TALK', 3 );\n",
    "define( 'NS_PROJECT', 4 );\n",
    "define( 'NS_PROJECT_TALK', 5 );\n",
    "define( 'NS_FILE', 6 );\n",
    "define( 'NS_FILE_TALK', 7 );\n",
    "define( 'NS_MEDIAWIKI', 8 );\n",
    "define( 'NS_MEDIAWIKI_TALK', 9 );\n",
    "define( 'NS_TEMPLATE', 10 );\n",
    "define( 'NS_TEMPLATE_TALK', 11 );\n",
    "define( 'NS_HELP', 12 );\n",
    "define( 'NS_HELP_TALK', 13 );\n",
    "define( 'NS_CATEGORY', 14 );\n",
    "define( 'NS_CATEGORY_TALK', 15 );"
   ]
  },
  {
   "cell_type": "code",
   "execution_count": null,
   "metadata": {
    "collapsed": false
   },
   "outputs": [],
   "source": [
    "def define(stringaz,numbez):\n",
    "    lol = \"\"\n",
    "    for y in stringaz.split(\"_\")[1:]:\n",
    "        lol+=\" \"+y\n",
    "    dizio[numbez] = lol"
   ]
  },
  {
   "cell_type": "code",
   "execution_count": 46,
   "metadata": {
    "collapsed": false,
    "scrolled": true
   },
   "outputs": [
    {
     "name": "stdout",
     "output_type": "stream",
     "text": [
      " MAIN : 15309\n",
      " TALK : 2781\n",
      " CATEGORY : 723\n",
      " FILE : 501\n",
      " USER TALK : 327\n",
      " USER : 125\n",
      " PROJECT : 117\n",
      " TEMPLATE : 116\n",
      " CATEGORY TALK : 38\n",
      " PROJECT TALK : 23\n",
      " TEMPLATE TALK : 17\n",
      " 100.0 : 13\n",
      " 101.0 : 4\n",
      " HELP : 2\n",
      " HELP TALK : 1\n",
      " MEDIAWIKI TALK : 1\n",
      " MEDIAWIKI : 1\n",
      " FILE TALK : 1\n",
      "--------------\n",
      "= 20100\n"
     ]
    }
   ],
   "source": [
    "c = 0\n",
    "for x in db.page.aggregate(pipeline):\n",
    "    try:\n",
    "        print dizio[x[\"_id\"]],\":\",x['count']\n",
    "        \n",
    "    except KeyError:\n",
    "        print \" \"+str(x[\"_id\"]),\":\",x['count']\n",
    "    c+= x['count']\n",
    "print \"--------------\"\n",
    "print \"=\",c"
   ]
  }
 ],
 "metadata": {
  "kernelspec": {
   "display_name": "Python 2",
   "language": "python",
   "name": "python2"
  },
  "language_info": {
   "codemirror_mode": {
    "name": "ipython",
    "version": 2
   },
   "file_extension": ".py",
   "mimetype": "text/x-python",
   "name": "python",
   "nbconvert_exporter": "python",
   "pygments_lexer": "ipython2",
   "version": "2.7.12"
  }
 },
 "nbformat": 4,
 "nbformat_minor": 2
}

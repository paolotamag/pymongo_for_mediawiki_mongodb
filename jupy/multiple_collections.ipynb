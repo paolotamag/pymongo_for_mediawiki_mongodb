{
 "cells": [
  {
   "cell_type": "code",
   "execution_count": 1,
   "metadata": {
    "collapsed": true
   },
   "outputs": [],
   "source": [
    "import pandas as pd\n",
    "import csv"
   ]
  },
  {
   "cell_type": "code",
   "execution_count": 2,
   "metadata": {
    "collapsed": true
   },
   "outputs": [],
   "source": [
    "def read_csv_from_sql(cols,path):\n",
    "    df = pd.read_csv(path, header = None, quoting=csv.QUOTE_NONNUMERIC, encoding=\"utf-8\", escapechar='\\\\', doublequote=False)\n",
    "    df.columns = cols\n",
    "    return df"
   ]
  },
  {
   "cell_type": "code",
   "execution_count": 3,
   "metadata": {
    "collapsed": true
   },
   "outputs": [],
   "source": [
    "df_list = []\n",
    "name_list = []"
   ]
  },
  {
   "cell_type": "code",
   "execution_count": 4,
   "metadata": {
    "collapsed": true
   },
   "outputs": [],
   "source": [
    "columns = [\"page_id\", \"page_namespace\", \"page_title\", \"page_restrictions\", \"page_counter\", \n",
    "                \"page_is_redirect\", \"page_is_new\", \"page_random\", \"page_touched\", \"page_links_updated\", \n",
    "                \"page_latest\", \"page_len\", \"page_content_model\", \"page_lang\"]\n",
    "patho = \"../csv_from_sql/page_30k.csv\"\n",
    "df_page = read_csv_from_sql(columns,patho)\n",
    "df_list.append(df_page)\n",
    "name_list.append(\"page\")"
   ]
  },
  {
   "cell_type": "code",
   "execution_count": 5,
   "metadata": {
    "collapsed": false
   },
   "outputs": [],
   "source": [
    "columns = [\"pl_from\", \"pl_namespace\", \"pl_title\", \"pl_from_namespace\"]\n",
    "patho = \"../csv_from_sql/pagelinks_30k.csv\"\n",
    "df_pagelinks = read_csv_from_sql(columns,patho)\n",
    "df_list.append(df_pagelinks)\n",
    "name_list.append(\"pagelinks\")"
   ]
  },
  {
   "cell_type": "code",
   "execution_count": 6,
   "metadata": {
    "collapsed": false
   },
   "outputs": [],
   "source": [
    "columns = [\"img_name\", \"img_size\", \"img_width\", \"img_height\", \"img_bits\", \"img_media_type\", \n",
    "\"img_major_mime\", \"img_minor_mime\", \"img_description\", \"img_user\", \"img_user_text\", \"img_timestamp\", \n",
    "\"img_sha1\", \"img_deleted\"] \n",
    "patho = \"../csv_from_sql/image_30k.csv\"\n",
    "df_image = read_csv_from_sql(columns,patho)\n",
    "df_list.append(df_image)\n",
    "name_list.append(\"image\")"
   ]
  },
  {
   "cell_type": "code",
   "execution_count": 7,
   "metadata": {
    "collapsed": false
   },
   "outputs": [],
   "source": [
    "columns = [\"il_from\",\"il_to\",\"il_from_namespace\"]\n",
    "patho = \"../csv_from_sql/imagelinks_30k.csv\"\n",
    "df_imagelinks = read_csv_from_sql(columns,patho)\n",
    "df_list.append(df_imagelinks)\n",
    "name_list.append(\"imagelinks\")"
   ]
  },
  {
   "cell_type": "code",
   "execution_count": 8,
   "metadata": {
    "collapsed": false
   },
   "outputs": [],
   "source": [
    "columns = [\"cat_id\", \"cat_title\", \"cat_pages\", \"cat_subcats\", \"cat_files\"]\n",
    "patho = \"../csv_from_sql/category_30k.csv\"\n",
    "df_category = read_csv_from_sql(columns,patho)\n",
    "df_list.append(df_category)\n",
    "name_list.append(\"category\")"
   ]
  },
  {
   "cell_type": "code",
   "execution_count": 9,
   "metadata": {
    "collapsed": false
   },
   "outputs": [],
   "source": [
    "columns = [\"cl_from\",\"cl_to\",\"cl_timestamp\",\"cl_sortkey_prefix\",\"cl_collation\",\"cl_type\"]\n",
    "patho = \"../csv_from_sql/categorylinks_30k.csv\"\n",
    "df_categorylinks = read_csv_from_sql(columns,patho)\n",
    "df_list.append(df_categorylinks)\n",
    "name_list.append(\"categorylinks\")"
   ]
  },
  {
   "cell_type": "code",
   "execution_count": 16,
   "metadata": {
    "collapsed": false
   },
   "outputs": [
    {
     "data": {
      "text/plain": [
       "False"
      ]
     },
     "execution_count": 16,
     "metadata": {},
     "output_type": "execute_result"
    }
   ],
   "source": [
    "c = 0\n",
    "for x in sorted(df_pagelinks[\"pl_from\"]):\n",
    "    if x in sorted(df_page[\"page_id\"]):\n",
    "        c += 1\n",
    "c == len(df_page)"
   ]
  },
  {
   "cell_type": "code",
   "execution_count": 43,
   "metadata": {
    "collapsed": false
   },
   "outputs": [],
   "source": [
    "from pymongo import MongoClient\n",
    "import pymongo\n",
    "client = MongoClient('localhost', 27017)"
   ]
  },
  {
   "cell_type": "code",
   "execution_count": null,
   "metadata": {
    "collapsed": false
   },
   "outputs": [],
   "source": []
  },
  {
   "cell_type": "code",
   "execution_count": 44,
   "metadata": {
    "collapsed": false
   },
   "outputs": [],
   "source": [
    "def create_collection(coll_name,df):\n",
    "    coll = db[coll_name]\n",
    "    for x in range(0,len(df)):\n",
    "        if x % 10000 == 0:\n",
    "            print coll_name,\"collection - progress:\",float(x)/len(df),\" (\",x,\"/\",len(df),\")\"\n",
    "        dictz = {}\n",
    "        for y in df.columns:\n",
    "            value = df[y][x]\n",
    "            if isinstance(value, basestring) or isinstance(value, unicode):\n",
    "                uffa = str(value.encode(encoding=\"utf-8\"))\n",
    "            else:\n",
    "                uffa = float(value)\n",
    "            dictz[y] = uffa\n",
    "        coll_id = coll.insert_one(dictz)"
   ]
  },
  {
   "cell_type": "code",
   "execution_count": 51,
   "metadata": {
    "collapsed": false
   },
   "outputs": [
    {
     "name": "stdout",
     "output_type": "stream",
     "text": [
      "page collection - progress: 0.0  ( 0 / 30000 )\n",
      "page collection - progress: 0.333333333333  ( 10000 / 30000 )\n",
      "page collection - progress: 0.666666666667  ( 20000 / 30000 )\n",
      "\n",
      "pagelinks collection - progress: 0.0  ( 0 / 4196 )\n",
      "\n",
      "image collection - progress: 0.0  ( 0 / 194 )\n",
      "\n",
      "imagelinks collection - progress: 0.0  ( 0 / 3817 )\n",
      "\n",
      "category collection - progress: 0.0  ( 0 / 5888 )\n",
      "\n",
      "categorylinks collection - progress: 0.0  ( 0 / 10509 )\n",
      "categorylinks collection - progress: 0.95156532496  ( 10000 / 10509 )\n",
      "\n"
     ]
    }
   ],
   "source": [
    "client.drop_database(u'wiki_multiple_collections')\n",
    "client.database_names()\n",
    "db = client['wiki_multiple_collections']\n",
    "for i in range(len(df_list)):\n",
    "    df_name = df_list[i]\n",
    "    colectione = name_list[i]\n",
    "    create_collection(colectione,df_name)\n",
    "    print"
   ]
  },
  {
   "cell_type": "code",
   "execution_count": 47,
   "metadata": {
    "collapsed": false
   },
   "outputs": [
    {
     "name": "stdout",
     "output_type": "stream",
     "text": [
      "The collections in our mongoDB are:\n",
      "\n",
      "image\n",
      "imagelinks\n",
      "page\n",
      "pagelinks\n",
      "category\n",
      "categorylinks\n"
     ]
    }
   ],
   "source": [
    "print \"The collections in our mongoDB are:\"\n",
    "print\n",
    "for x in db.collection_names():\n",
    "    print x"
   ]
  },
  {
   "cell_type": "code",
   "execution_count": 50,
   "metadata": {
    "collapsed": false
   },
   "outputs": [
    {
     "name": "stdout",
     "output_type": "stream",
     "text": [
      "indexes for collection of pages:\n",
      "[u'_id_', u'page_id_1']\n",
      "\n",
      "indexes for collection of links among pages:\n",
      "[u'_id_', u'pl_from_1_pl_title_1']\n",
      "\n",
      "indexes for collection of images:\n",
      "[u'_id_', u'img_name_1']\n",
      "\n",
      "indexes for collection of links between pages and images:\n",
      "[u'_id_', u'il_from_1_il_to_1']\n",
      "\n",
      "indexes for collection of categories:\n",
      "[u'_id_', u'cat_id_1']\n",
      "\n",
      "indexes for collection of links between pages and categories:\n",
      "[u'_id_', u'cl_from_1_cl_to_1']\n"
     ]
    }
   ],
   "source": [
    "#creating indexes\n",
    "collection_now = db[\"page\"]\n",
    "result = collection_now.create_index([('page_id', pymongo.ASCENDING)], unique=True)\n",
    "print \"indexes for collection of pages:\" \n",
    "print sorted(list(collection_now.index_information()))\n",
    "print\n",
    "collection_now = db[\"pagelinks\"]\n",
    "result = collection_now.create_index([(\"pl_from\", pymongo.ASCENDING),(\"pl_title\", pymongo.ASCENDING)], unique=True)\n",
    "print \"indexes for collection of links among pages:\" \n",
    "print sorted(list(collection_now.index_information()))\n",
    "print\n",
    "collection_now = db[\"image\"]\n",
    "result = collection_now.create_index([(\"img_name\", pymongo.ASCENDING)], unique=True)\n",
    "print \"indexes for collection of images:\" \n",
    "print sorted(list(collection_now.index_information()))\n",
    "print\n",
    "collection_now = db[\"imagelinks\"]\n",
    "result = collection_now.create_index([(\"il_from\", pymongo.ASCENDING),(\"il_to\", pymongo.ASCENDING)], unique=True)\n",
    "print \"indexes for collection of links between pages and images:\" \n",
    "print sorted(list(collection_now.index_information()))\n",
    "print\n",
    "collection_now = db[\"category\"]\n",
    "result = collection_now.create_index([('cat_id', pymongo.ASCENDING)], unique=True)\n",
    "print \"indexes for collection of categories:\" \n",
    "print sorted(list(collection_now.index_information()))\n",
    "print\n",
    "collection_now = db[\"categorylinks\"]\n",
    "result = collection_now.create_index([(\"cl_from\", pymongo.ASCENDING),(\"cl_to\", pymongo.ASCENDING)], unique=True)\n",
    "print \"indexes for collection of links between pages and categories:\" \n",
    "print sorted(list(collection_now.index_information()))"
   ]
  }
 ],
 "metadata": {
  "kernelspec": {
   "display_name": "Python 2",
   "language": "python",
   "name": "python2"
  },
  "language_info": {
   "codemirror_mode": {
    "name": "ipython",
    "version": 2
   },
   "file_extension": ".py",
   "mimetype": "text/x-python",
   "name": "python",
   "nbconvert_exporter": "python",
   "pygments_lexer": "ipython2",
   "version": "2.7.12"
  }
 },
 "nbformat": 4,
 "nbformat_minor": 2
}
